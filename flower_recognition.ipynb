{
 "cells": [
  {
   "cell_type": "code",
   "execution_count": 2,
   "metadata": {},
   "outputs": [
    {
     "name": "stdout",
     "output_type": "stream",
     "text": [
      "WARNING:tensorflow:From c:\\Users\\rajro\\AppData\\Local\\Programs\\Python\\Python310\\lib\\site-packages\\keras\\src\\losses.py:2976: The name tf.losses.sparse_softmax_cross_entropy is deprecated. Please use tf.compat.v1.losses.sparse_softmax_cross_entropy instead.\n",
      "\n"
     ]
    }
   ],
   "source": [
    "import numpy as np\n",
    "import tensorflow as tf\n",
    "from keras.preprocessing.image import ImageDataGenerator"
   ]
  },
  {
   "cell_type": "code",
   "execution_count": 3,
   "metadata": {},
   "outputs": [
    {
     "data": {
      "text/plain": [
       "'2.15.0'"
      ]
     },
     "execution_count": 3,
     "metadata": {},
     "output_type": "execute_result"
    }
   ],
   "source": [
    "tf.__version__"
   ]
  },
  {
   "cell_type": "code",
   "execution_count": 4,
   "metadata": {},
   "outputs": [
    {
     "name": "stdout",
     "output_type": "stream",
     "text": [
      "Found 3453 images belonging to 5 classes.\n"
     ]
    }
   ],
   "source": [
    "train_datagen = ImageDataGenerator(\n",
    "        rescale=1./255,\n",
    "        shear_range=0.2,\n",
    "        zoom_range=0.2,\n",
    "        horizontal_flip=True)\n",
    "training_set = train_datagen.flow_from_directory(\n",
    "        'training_set',\n",
    "        target_size=(64, 64),\n",
    "        batch_size=32,\n",
    "        class_mode='categorical')"
   ]
  },
  {
   "cell_type": "code",
   "execution_count": 5,
   "metadata": {},
   "outputs": [
    {
     "name": "stdout",
     "output_type": "stream",
     "text": [
      "Found 864 images belonging to 5 classes.\n"
     ]
    }
   ],
   "source": [
    "test_datagen = ImageDataGenerator(rescale=1./255)\n",
    "test_set = test_datagen.flow_from_directory(\n",
    "        'test_set',\n",
    "        target_size=(64, 64),\n",
    "        batch_size=32,\n",
    "        class_mode='categorical')"
   ]
  },
  {
   "cell_type": "code",
   "execution_count": 6,
   "metadata": {},
   "outputs": [
    {
     "name": "stdout",
     "output_type": "stream",
     "text": [
      "WARNING:tensorflow:From c:\\Users\\rajro\\AppData\\Local\\Programs\\Python\\Python310\\lib\\site-packages\\keras\\src\\backend.py:873: The name tf.get_default_graph is deprecated. Please use tf.compat.v1.get_default_graph instead.\n",
      "\n"
     ]
    }
   ],
   "source": [
    "cnn = tf.keras.models.Sequential()"
   ]
  },
  {
   "cell_type": "code",
   "execution_count": 7,
   "metadata": {},
   "outputs": [
    {
     "name": "stdout",
     "output_type": "stream",
     "text": [
      "WARNING:tensorflow:From c:\\Users\\rajro\\AppData\\Local\\Programs\\Python\\Python310\\lib\\site-packages\\keras\\src\\layers\\pooling\\max_pooling2d.py:161: The name tf.nn.max_pool is deprecated. Please use tf.nn.max_pool2d instead.\n",
      "\n"
     ]
    }
   ],
   "source": [
    "cnn.add(tf.keras.layers.Conv2D(filters=64 , kernel_size=3 , activation='relu' , input_shape=[64,64,3]))\n",
    "cnn.add(tf.keras.layers.MaxPool2D(pool_size=2,strides=2))"
   ]
  },
  {
   "cell_type": "code",
   "execution_count": 8,
   "metadata": {},
   "outputs": [],
   "source": [
    "cnn.add(tf.keras.layers.Conv2D(filters=64 , kernel_size=3 , activation='relu' ))\n",
    "cnn.add(tf.keras.layers.MaxPool2D(pool_size=2 , strides=2))"
   ]
  },
  {
   "cell_type": "code",
   "execution_count": 9,
   "metadata": {},
   "outputs": [],
   "source": [
    "cnn.add(tf.keras.layers.Dropout(0.5))"
   ]
  },
  {
   "cell_type": "code",
   "execution_count": 10,
   "metadata": {},
   "outputs": [],
   "source": [
    "cnn.add(tf.keras.layers.Flatten())"
   ]
  },
  {
   "cell_type": "code",
   "execution_count": 11,
   "metadata": {},
   "outputs": [],
   "source": [
    "cnn.add(tf.keras.layers.Dense(units=128, activation='relu'))"
   ]
  },
  {
   "cell_type": "code",
   "execution_count": 12,
   "metadata": {},
   "outputs": [],
   "source": [
    "cnn.add(tf.keras.layers.Dense(units=5 , activation='softmax'))"
   ]
  },
  {
   "cell_type": "code",
   "execution_count": 13,
   "metadata": {},
   "outputs": [
    {
     "name": "stdout",
     "output_type": "stream",
     "text": [
      "WARNING:tensorflow:From c:\\Users\\rajro\\AppData\\Local\\Programs\\Python\\Python310\\lib\\site-packages\\keras\\src\\optimizers\\__init__.py:309: The name tf.train.Optimizer is deprecated. Please use tf.compat.v1.train.Optimizer instead.\n",
      "\n"
     ]
    }
   ],
   "source": [
    "cnn.compile(optimizer = 'rmsprop' , loss = 'categorical_crossentropy' , metrics = ['accuracy'])"
   ]
  },
  {
   "cell_type": "code",
   "execution_count": 14,
   "metadata": {
    "scrolled": false
   },
   "outputs": [
    {
     "name": "stdout",
     "output_type": "stream",
     "text": [
      "Epoch 1/30\n",
      "WARNING:tensorflow:From c:\\Users\\rajro\\AppData\\Local\\Programs\\Python\\Python310\\lib\\site-packages\\keras\\src\\utils\\tf_utils.py:492: The name tf.ragged.RaggedTensorValue is deprecated. Please use tf.compat.v1.ragged.RaggedTensorValue instead.\n",
      "\n",
      "WARNING:tensorflow:From c:\\Users\\rajro\\AppData\\Local\\Programs\\Python\\Python310\\lib\\site-packages\\keras\\src\\engine\\base_layer_utils.py:384: The name tf.executing_eagerly_outside_functions is deprecated. Please use tf.compat.v1.executing_eagerly_outside_functions instead.\n",
      "\n",
      "108/108 [==============================] - 21s 185ms/step - loss: 1.3684 - accuracy: 0.4060 - val_loss: 1.1353 - val_accuracy: 0.5336\n",
      "Epoch 2/30\n",
      "108/108 [==============================] - 14s 128ms/step - loss: 1.1305 - accuracy: 0.5447 - val_loss: 1.1629 - val_accuracy: 0.5463\n",
      "Epoch 3/30\n",
      "108/108 [==============================] - 14s 130ms/step - loss: 1.0294 - accuracy: 0.5957 - val_loss: 0.9786 - val_accuracy: 0.6354\n",
      "Epoch 4/30\n",
      "108/108 [==============================] - 14s 129ms/step - loss: 0.9541 - accuracy: 0.6270 - val_loss: 1.0729 - val_accuracy: 0.5995\n",
      "Epoch 5/30\n",
      "108/108 [==============================] - 14s 129ms/step - loss: 0.9109 - accuracy: 0.6473 - val_loss: 1.1881 - val_accuracy: 0.5810\n",
      "Epoch 6/30\n",
      "108/108 [==============================] - 14s 130ms/step - loss: 0.8490 - accuracy: 0.6649 - val_loss: 0.9032 - val_accuracy: 0.6539\n",
      "Epoch 7/30\n",
      "108/108 [==============================] - 15s 136ms/step - loss: 0.8050 - accuracy: 0.6916 - val_loss: 0.9680 - val_accuracy: 0.6481\n",
      "Epoch 8/30\n",
      "108/108 [==============================] - 15s 141ms/step - loss: 0.7753 - accuracy: 0.7006 - val_loss: 0.8673 - val_accuracy: 0.6840\n",
      "Epoch 9/30\n",
      "108/108 [==============================] - 17s 158ms/step - loss: 0.7324 - accuracy: 0.7098 - val_loss: 0.7996 - val_accuracy: 0.7025\n",
      "Epoch 10/30\n",
      "108/108 [==============================] - 16s 147ms/step - loss: 0.7008 - accuracy: 0.7304 - val_loss: 1.3630 - val_accuracy: 0.5718\n",
      "Epoch 11/30\n",
      "108/108 [==============================] - 15s 140ms/step - loss: 0.6848 - accuracy: 0.7414 - val_loss: 1.0548 - val_accuracy: 0.6377\n",
      "Epoch 12/30\n",
      "108/108 [==============================] - 14s 132ms/step - loss: 0.6490 - accuracy: 0.7527 - val_loss: 0.9398 - val_accuracy: 0.6597\n",
      "Epoch 13/30\n",
      "108/108 [==============================] - 14s 132ms/step - loss: 0.6282 - accuracy: 0.7735 - val_loss: 0.8844 - val_accuracy: 0.6956\n",
      "Epoch 14/30\n",
      "108/108 [==============================] - 14s 131ms/step - loss: 0.5994 - accuracy: 0.7654 - val_loss: 0.8179 - val_accuracy: 0.7037\n",
      "Epoch 15/30\n",
      "108/108 [==============================] - 15s 142ms/step - loss: 0.5863 - accuracy: 0.7793 - val_loss: 1.0912 - val_accuracy: 0.6447\n",
      "Epoch 16/30\n",
      "108/108 [==============================] - 14s 132ms/step - loss: 0.5581 - accuracy: 0.7926 - val_loss: 0.8609 - val_accuracy: 0.7095\n",
      "Epoch 17/30\n",
      "108/108 [==============================] - 14s 129ms/step - loss: 0.5458 - accuracy: 0.7970 - val_loss: 0.8429 - val_accuracy: 0.7037\n",
      "Epoch 18/30\n",
      "108/108 [==============================] - 14s 129ms/step - loss: 0.5087 - accuracy: 0.8132 - val_loss: 1.0021 - val_accuracy: 0.6887\n",
      "Epoch 19/30\n",
      "108/108 [==============================] - 14s 130ms/step - loss: 0.4917 - accuracy: 0.8132 - val_loss: 0.8930 - val_accuracy: 0.7106\n",
      "Epoch 20/30\n",
      "108/108 [==============================] - 14s 133ms/step - loss: 0.4644 - accuracy: 0.8277 - val_loss: 0.8665 - val_accuracy: 0.7060\n",
      "Epoch 21/30\n",
      "108/108 [==============================] - 14s 133ms/step - loss: 0.4550 - accuracy: 0.8349 - val_loss: 0.8525 - val_accuracy: 0.6991\n",
      "Epoch 22/30\n",
      "108/108 [==============================] - 14s 132ms/step - loss: 0.4403 - accuracy: 0.8317 - val_loss: 1.1273 - val_accuracy: 0.6632\n",
      "Epoch 23/30\n",
      "108/108 [==============================] - 14s 131ms/step - loss: 0.4231 - accuracy: 0.8445 - val_loss: 1.0357 - val_accuracy: 0.6725\n",
      "Epoch 24/30\n",
      "108/108 [==============================] - 14s 132ms/step - loss: 0.4399 - accuracy: 0.8427 - val_loss: 0.9882 - val_accuracy: 0.7095\n",
      "Epoch 25/30\n",
      "108/108 [==============================] - 14s 130ms/step - loss: 0.4112 - accuracy: 0.8482 - val_loss: 1.2637 - val_accuracy: 0.6470\n",
      "Epoch 26/30\n",
      "108/108 [==============================] - 14s 130ms/step - loss: 0.3749 - accuracy: 0.8587 - val_loss: 0.9492 - val_accuracy: 0.7049\n",
      "Epoch 27/30\n",
      "108/108 [==============================] - 14s 131ms/step - loss: 0.3629 - accuracy: 0.8726 - val_loss: 1.0450 - val_accuracy: 0.7025\n",
      "Epoch 28/30\n",
      "108/108 [==============================] - 20s 182ms/step - loss: 0.3435 - accuracy: 0.8752 - val_loss: 1.1190 - val_accuracy: 0.6863\n",
      "Epoch 29/30\n",
      "108/108 [==============================] - 15s 140ms/step - loss: 0.3385 - accuracy: 0.8703 - val_loss: 1.1312 - val_accuracy: 0.6875\n",
      "Epoch 30/30\n",
      "108/108 [==============================] - 15s 140ms/step - loss: 0.3254 - accuracy: 0.8833 - val_loss: 0.9977 - val_accuracy: 0.7002\n"
     ]
    },
    {
     "data": {
      "text/plain": [
       "<keras.src.callbacks.History at 0x2869153fd60>"
      ]
     },
     "execution_count": 14,
     "metadata": {},
     "output_type": "execute_result"
    }
   ],
   "source": [
    "cnn.fit(x = training_set , validation_data = test_set , epochs = 30)"
   ]
  },
  {
   "cell_type": "code",
   "execution_count": 38,
   "metadata": {},
   "outputs": [
    {
     "name": "stdout",
     "output_type": "stream",
     "text": [
      "1/1 [==============================] - 0s 58ms/step\n"
     ]
    },
    {
     "data": {
      "text/plain": [
       "{'daisy': 0, 'dandelion': 1, 'rose': 2, 'sunflower': 3, 'tulip': 4}"
      ]
     },
     "execution_count": 38,
     "metadata": {},
     "output_type": "execute_result"
    }
   ],
   "source": [
    "from keras.preprocessing import image\n",
    "test_image = image.load_img('Prediction/daisy.jpg',target_size=(64,64))\n",
    "test_image = image.img_to_array(test_image)\n",
    "test_image = np.expand_dims(test_image,axis=0)\n",
    "result = cnn.predict(test_image)\n",
    "training_set.class_indices"
   ]
  },
  {
   "cell_type": "code",
   "execution_count": 39,
   "metadata": {},
   "outputs": [
    {
     "name": "stdout",
     "output_type": "stream",
     "text": [
      "Rose\n"
     ]
    }
   ],
   "source": [
    "if result[0][0]==1:\n",
    "    print('Daisy')\n",
    "elif result[0][1]==1:\n",
    "    print('Dandelion')\n",
    "elif result[0][2]==1:\n",
    "    print('Rose')\n",
    "elif result[0][3]==1:\n",
    "    print('SunFlower')\n",
    "elif result[0][4]==1:\n",
    "    print(\"Tulip\")"
   ]
  },
  {
   "cell_type": "code",
   "execution_count": 32,
   "metadata": {},
   "outputs": [
    {
     "name": "stdout",
     "output_type": "stream",
     "text": [
      "[[0. 0. 0. 1. 0.]]\n"
     ]
    }
   ],
   "source": [
    "print(result)"
   ]
  },
  {
   "cell_type": "code",
   "execution_count": null,
   "metadata": {},
   "outputs": [],
   "source": []
  }
 ],
 "metadata": {
  "kernelspec": {
   "display_name": "Python 3",
   "language": "python",
   "name": "python3"
  },
  "language_info": {
   "codemirror_mode": {
    "name": "ipython",
    "version": 3
   },
   "file_extension": ".py",
   "mimetype": "text/x-python",
   "name": "python",
   "nbconvert_exporter": "python",
   "pygments_lexer": "ipython3",
   "version": "3.10.0"
  }
 },
 "nbformat": 4,
 "nbformat_minor": 4
}
